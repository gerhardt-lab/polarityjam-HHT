{
 "cells": [
  {
   "cell_type": "code",
   "execution_count": 138,
   "id": "fc6e85b2-8530-4396-ab2d-ce308fc442b9",
   "metadata": {},
   "outputs": [],
   "source": [
    "import pandas as pd\n",
    "import seaborn as sns\n",
    "import matplotlib.pyplot as plt\n",
    "import dabest"
   ]
  },
  {
   "cell_type": "code",
   "execution_count": 139,
   "id": "6f037579-59b3-4df4-9205-487948d87c41",
   "metadata": {
    "scrolled": true
   },
   "outputs": [
    {
     "data": {
      "text/html": [
       "<div>\n",
       "<style scoped>\n",
       "    .dataframe tbody tr th:only-of-type {\n",
       "        vertical-align: middle;\n",
       "    }\n",
       "\n",
       "    .dataframe tbody tr th {\n",
       "        vertical-align: top;\n",
       "    }\n",
       "\n",
       "    .dataframe thead th {\n",
       "        text-align: right;\n",
       "    }\n",
       "</style>\n",
       "<table border=\"1\" class=\"dataframe\">\n",
       "  <thead>\n",
       "    <tr style=\"text-align: right;\">\n",
       "      <th></th>\n",
       "      <th>filename</th>\n",
       "      <th>short_name</th>\n",
       "      <th>marker_mean_expression_nuc</th>\n",
       "      <th>marker_mean_expression_cyt</th>\n",
       "      <th>nuc_to_cytosol_ratio</th>\n",
       "      <th>flow</th>\n",
       "    </tr>\n",
       "  </thead>\n",
       "  <tbody>\n",
       "    <tr>\n",
       "      <th>0</th>\n",
       "      <td>230302_MV2_4h_static-02(1)</td>\n",
       "      <td>siCTRL_static</td>\n",
       "      <td>108.072495</td>\n",
       "      <td>51.995258</td>\n",
       "      <td>2.078507</td>\n",
       "      <td>static</td>\n",
       "    </tr>\n",
       "    <tr>\n",
       "      <th>1</th>\n",
       "      <td>230302_MV2_4h_static-02(1)</td>\n",
       "      <td>siCTRL_static</td>\n",
       "      <td>48.864231</td>\n",
       "      <td>20.153032</td>\n",
       "      <td>2.424659</td>\n",
       "      <td>static</td>\n",
       "    </tr>\n",
       "    <tr>\n",
       "      <th>2</th>\n",
       "      <td>230302_MV2_4h_static-02(1)</td>\n",
       "      <td>siCTRL_static</td>\n",
       "      <td>64.530357</td>\n",
       "      <td>19.700611</td>\n",
       "      <td>3.275551</td>\n",
       "      <td>static</td>\n",
       "    </tr>\n",
       "    <tr>\n",
       "      <th>3</th>\n",
       "      <td>230302_MV2_4h_static-02(1)</td>\n",
       "      <td>siCTRL_static</td>\n",
       "      <td>77.801849</td>\n",
       "      <td>20.089123</td>\n",
       "      <td>3.872835</td>\n",
       "      <td>static</td>\n",
       "    </tr>\n",
       "    <tr>\n",
       "      <th>4</th>\n",
       "      <td>230302_MV2_4h_static-02(1)</td>\n",
       "      <td>siCTRL_static</td>\n",
       "      <td>54.337254</td>\n",
       "      <td>17.077110</td>\n",
       "      <td>3.181876</td>\n",
       "      <td>static</td>\n",
       "    </tr>\n",
       "    <tr>\n",
       "      <th>...</th>\n",
       "      <td>...</td>\n",
       "      <td>...</td>\n",
       "      <td>...</td>\n",
       "      <td>...</td>\n",
       "      <td>...</td>\n",
       "      <td>...</td>\n",
       "    </tr>\n",
       "    <tr>\n",
       "      <th>32329</th>\n",
       "      <td>230302_siAlk1_MV2_4h_static-03(17)</td>\n",
       "      <td>siAlk1_static</td>\n",
       "      <td>65.476593</td>\n",
       "      <td>22.381172</td>\n",
       "      <td>2.925521</td>\n",
       "      <td>static</td>\n",
       "    </tr>\n",
       "    <tr>\n",
       "      <th>32330</th>\n",
       "      <td>230302_siAlk1_MV2_4h_static-03(17)</td>\n",
       "      <td>siAlk1_static</td>\n",
       "      <td>75.198517</td>\n",
       "      <td>21.955336</td>\n",
       "      <td>3.425068</td>\n",
       "      <td>static</td>\n",
       "    </tr>\n",
       "    <tr>\n",
       "      <th>32331</th>\n",
       "      <td>230302_siAlk1_MV2_4h_static-03(17)</td>\n",
       "      <td>siAlk1_static</td>\n",
       "      <td>76.106262</td>\n",
       "      <td>26.221907</td>\n",
       "      <td>2.902392</td>\n",
       "      <td>static</td>\n",
       "    </tr>\n",
       "    <tr>\n",
       "      <th>32332</th>\n",
       "      <td>230302_siAlk1_MV2_4h_static-03(17)</td>\n",
       "      <td>siAlk1_static</td>\n",
       "      <td>91.853722</td>\n",
       "      <td>31.399187</td>\n",
       "      <td>2.925353</td>\n",
       "      <td>static</td>\n",
       "    </tr>\n",
       "    <tr>\n",
       "      <th>32333</th>\n",
       "      <td>230302_siAlk1_MV2_4h_static-03(17)</td>\n",
       "      <td>siAlk1_static</td>\n",
       "      <td>79.968636</td>\n",
       "      <td>35.496742</td>\n",
       "      <td>2.252844</td>\n",
       "      <td>static</td>\n",
       "    </tr>\n",
       "  </tbody>\n",
       "</table>\n",
       "<p>32334 rows × 6 columns</p>\n",
       "</div>"
      ],
      "text/plain": [
       "                                 filename     short_name  \\\n",
       "0              230302_MV2_4h_static-02(1)  siCTRL_static   \n",
       "1              230302_MV2_4h_static-02(1)  siCTRL_static   \n",
       "2              230302_MV2_4h_static-02(1)  siCTRL_static   \n",
       "3              230302_MV2_4h_static-02(1)  siCTRL_static   \n",
       "4              230302_MV2_4h_static-02(1)  siCTRL_static   \n",
       "...                                   ...            ...   \n",
       "32329  230302_siAlk1_MV2_4h_static-03(17)  siAlk1_static   \n",
       "32330  230302_siAlk1_MV2_4h_static-03(17)  siAlk1_static   \n",
       "32331  230302_siAlk1_MV2_4h_static-03(17)  siAlk1_static   \n",
       "32332  230302_siAlk1_MV2_4h_static-03(17)  siAlk1_static   \n",
       "32333  230302_siAlk1_MV2_4h_static-03(17)  siAlk1_static   \n",
       "\n",
       "       marker_mean_expression_nuc  marker_mean_expression_cyt  \\\n",
       "0                      108.072495                   51.995258   \n",
       "1                       48.864231                   20.153032   \n",
       "2                       64.530357                   19.700611   \n",
       "3                       77.801849                   20.089123   \n",
       "4                       54.337254                   17.077110   \n",
       "...                           ...                         ...   \n",
       "32329                   65.476593                   22.381172   \n",
       "32330                   75.198517                   21.955336   \n",
       "32331                   76.106262                   26.221907   \n",
       "32332                   91.853722                   31.399187   \n",
       "32333                   79.968636                   35.496742   \n",
       "\n",
       "       nuc_to_cytosol_ratio    flow  \n",
       "0                  2.078507  static  \n",
       "1                  2.424659  static  \n",
       "2                  3.275551  static  \n",
       "3                  3.872835  static  \n",
       "4                  3.181876  static  \n",
       "...                     ...     ...  \n",
       "32329              2.925521  static  \n",
       "32330              3.425068  static  \n",
       "32331              2.902392  static  \n",
       "32332              2.925353  static  \n",
       "32333              2.252844  static  \n",
       "\n",
       "[32334 rows x 6 columns]"
      ]
     },
     "execution_count": 139,
     "metadata": {},
     "output_type": "execute_result"
    }
   ],
   "source": [
    "file_name_properties = \"Y:/Olya/Imaging_data_flow/2023/MV2_Promocell/KLF4/KLF4_merged_file_dot.csv\"\n",
    "output_folder = \"T:/02_Projects/Manuscript_Goldilocks_HHT/Figure_3/KLF4_size_shape/\"\n",
    "properties_df = pd.read_csv(file_name_properties)#, sep=\";\")\n",
    "properties_df"
   ]
  },
  {
   "cell_type": "code",
   "execution_count": 140,
   "id": "a3dc1faf-8621-4156-9436-f0ef30afef0d",
   "metadata": {},
   "outputs": [
    {
     "name": "stdout",
     "output_type": "stream",
     "text": [
      "Index(['filename', 'short_name', 'marker_mean_expression_nuc',\n",
      "       'marker_mean_expression_cyt', 'nuc_to_cytosol_ratio', 'flow'],\n",
      "      dtype='object')\n"
     ]
    }
   ],
   "source": [
    "print(properties_df.columns)"
   ]
  },
  {
   "cell_type": "code",
   "execution_count": 141,
   "id": "6d0f5ab4-0ae9-4e99-b7d0-7ad5e334835f",
   "metadata": {},
   "outputs": [
    {
     "data": {
      "text/plain": [
       "array([2.07850673, 2.424659  , 3.27555105, ..., 2.90239239, 2.92535349,\n",
       "       2.25284436])"
      ]
     },
     "execution_count": 141,
     "metadata": {},
     "output_type": "execute_result"
    }
   ],
   "source": [
    "properties_df[\"nuc_to_cytosol_ratio\"].unique() #change based on analyzed feature. can also be for cell area/elongation/orientation;\n",
    "#properties_df[\"Group\"].unique"
   ]
  },
  {
   "cell_type": "raw",
   "id": "1da3e0dd-d132-4d34-84f8-477ef27cc5fa",
   "metadata": {},
   "source": [
    "properties_df[\"short_name\"].unique()\n",
    "properties_df"
   ]
  },
  {
   "cell_type": "code",
   "execution_count": 142,
   "id": "dfceff35-febc-4dbd-9b7e-8e8e47aaa13b",
   "metadata": {},
   "outputs": [
    {
     "data": {
      "text/plain": [
       "0        2.078507\n",
       "1        2.424659\n",
       "2        3.275551\n",
       "3        3.872835\n",
       "4        3.181876\n",
       "           ...   \n",
       "32329    2.925521\n",
       "32330    3.425068\n",
       "32331    2.902392\n",
       "32332    2.925353\n",
       "32333    2.252844\n",
       "Name: nuc_to_cytosol_ratio, Length: 32334, dtype: float64"
      ]
     },
     "execution_count": 142,
     "metadata": {},
     "output_type": "execute_result"
    }
   ],
   "source": [
    "#only in case of KLF4/pSMAD159 analysis\n",
    "\n",
    "properties_df[\"nuc_to_cytosol_ratio\"] = properties_df[\"marker_mean_expression_nuc\"]/properties_df[\"marker_mean_expression_cyt\"]\n",
    "properties_df[\"nuc_to_cytosol_ratio\"]"
   ]
  },
  {
   "cell_type": "code",
   "execution_count": 143,
   "id": "5ff1b8d0-fd38-4a62-b5b4-324f131261f4",
   "metadata": {},
   "outputs": [
    {
     "name": "stderr",
     "output_type": "stream",
     "text": [
      "C:\\Users\\ooppenh\\AppData\\Local\\Temp\\2\\ipykernel_12536\\2409064216.py:1: FutureWarning: The default value of numeric_only in DataFrameGroupBy.mean is deprecated. In a future version, numeric_only will default to False. Either specify numeric_only or select only columns which should be valid for the function.\n",
      "  properties_mean_df = properties_df.groupby(\"short_name\").mean().reset_index()\n"
     ]
    }
   ],
   "source": [
    "properties_mean_df = properties_df.groupby(\"short_name\").mean().reset_index()"
   ]
  },
  {
   "cell_type": "code",
   "execution_count": 144,
   "id": "9ef57de2-fdde-4f6a-b86d-ba2ca41a26cb",
   "metadata": {},
   "outputs": [
    {
     "data": {
      "text/html": [
       "<div>\n",
       "<style scoped>\n",
       "    .dataframe tbody tr th:only-of-type {\n",
       "        vertical-align: middle;\n",
       "    }\n",
       "\n",
       "    .dataframe tbody tr th {\n",
       "        vertical-align: top;\n",
       "    }\n",
       "\n",
       "    .dataframe thead th {\n",
       "        text-align: right;\n",
       "    }\n",
       "</style>\n",
       "<table border=\"1\" class=\"dataframe\">\n",
       "  <thead>\n",
       "    <tr style=\"text-align: right;\">\n",
       "      <th></th>\n",
       "      <th>short_name</th>\n",
       "      <th>nuc_to_cytosol_ratio</th>\n",
       "    </tr>\n",
       "  </thead>\n",
       "  <tbody>\n",
       "    <tr>\n",
       "      <th>0</th>\n",
       "      <td>siCTRL_static</td>\n",
       "      <td>3.879241</td>\n",
       "    </tr>\n",
       "    <tr>\n",
       "      <th>1</th>\n",
       "      <td>siCTRL_4h</td>\n",
       "      <td>6.632949</td>\n",
       "    </tr>\n",
       "    <tr>\n",
       "      <th>2</th>\n",
       "      <td>siCTRL_16h</td>\n",
       "      <td>5.453780</td>\n",
       "    </tr>\n",
       "    <tr>\n",
       "      <th>3</th>\n",
       "      <td>siAlk1_static</td>\n",
       "      <td>3.956836</td>\n",
       "    </tr>\n",
       "    <tr>\n",
       "      <th>4</th>\n",
       "      <td>siAlk1_4h</td>\n",
       "      <td>5.041346</td>\n",
       "    </tr>\n",
       "    <tr>\n",
       "      <th>5</th>\n",
       "      <td>siAlk1_16h</td>\n",
       "      <td>5.227323</td>\n",
       "    </tr>\n",
       "    <tr>\n",
       "      <th>6</th>\n",
       "      <td>siSMAD4_static</td>\n",
       "      <td>4.273450</td>\n",
       "    </tr>\n",
       "    <tr>\n",
       "      <th>7</th>\n",
       "      <td>siSMAD4_4h</td>\n",
       "      <td>7.211560</td>\n",
       "    </tr>\n",
       "    <tr>\n",
       "      <th>8</th>\n",
       "      <td>siSMAD4_16h</td>\n",
       "      <td>8.128630</td>\n",
       "    </tr>\n",
       "  </tbody>\n",
       "</table>\n",
       "</div>"
      ],
      "text/plain": [
       "       short_name  nuc_to_cytosol_ratio\n",
       "0   siCTRL_static              3.879241\n",
       "1       siCTRL_4h              6.632949\n",
       "2      siCTRL_16h              5.453780\n",
       "3   siAlk1_static              3.956836\n",
       "4       siAlk1_4h              5.041346\n",
       "5      siAlk1_16h              5.227323\n",
       "6  siSMAD4_static              4.273450\n",
       "7      siSMAD4_4h              7.211560\n",
       "8     siSMAD4_16h              8.128630"
      ]
     },
     "execution_count": 144,
     "metadata": {},
     "output_type": "execute_result"
    }
   ],
   "source": [
    "properties_mean_df = pd.DataFrame()\n",
    "\n",
    "index = 0\n",
    "for img_name in properties_df[\"short_name\"].unique():\n",
    "\n",
    "    properties_img_df = properties_df[properties_df[\"short_name\"]==img_name]\n",
    "    properties_mean_df.at[index,\"short_name\"] = img_name\n",
    "    #properties_mean_df.at[index,\"Vessel_Density_CD31/COL4\"] = properties_img_df[\"Vessel_Density_CD31/COL4\"].iloc[0]\n",
    "    #properties_mean_df.at[index,\"time_point\"] = properties_img_df[\"time_point\"].iloc[0]\n",
    "    #properties_mean_df = properties_mean_df.loc[properties_mean_df['Group'] == 'SMAD4_KO']\n",
    "    properties_mean_df.at[index,\"nuc_to_cytosol_ratio\"] = properties_img_df[\"nuc_to_cytosol_ratio\"].mean()\n",
    "    #properties_mean_df.at[index,\"cell_major_to_minor_ratio\"] = properties_img_df[\"cell_major_to_minor_ratio\"].mean()\n",
    "    #properties_mean_df.at[index,\"Vessel_Density_CD31/COL4\"] = properties_img_df[\"Vessel_Density_CD31/COL4\"].mean()\n",
    "    #properties_mean_df.at[index,\"nuc_to_cytosol_ratio_std\"] = properties_img_df[\"nuc_to_cytosol_ratio\"].std()\n",
    "    index +=1\n",
    "    properties_mean_df.reset_index(drop=True, inplace=True)\n",
    "properties_mean_df"
   ]
  },
  {
   "cell_type": "code",
   "execution_count": 133,
   "id": "86d1af5c-e935-41dc-be2d-330195b7f9f5",
   "metadata": {},
   "outputs": [
    {
     "name": "stdout",
     "output_type": "stream",
     "text": [
      "Empty DataFrame\n",
      "Columns: [Image, Group, Branching_Points_Density_CD31/COL4, Vessel_Density_CD31/COL4, Mean_Branch_Length, Mean_Vessel_Radius, Branching Points, Regression_events, Regression_100_BPs, z_score]\n",
      "Index: []\n",
      "Int64Index([], dtype='int64')\n"
     ]
    },
    {
     "name": "stderr",
     "output_type": "stream",
     "text": [
      "C:\\Users\\ooppenh\\AppData\\Local\\Temp\\2\\ipykernel_12536\\233992537.py:5: SettingWithCopyWarning: \n",
      "A value is trying to be set on a copy of a slice from a DataFrame.\n",
      "Try using .loc[row_indexer,col_indexer] = value instead\n",
      "\n",
      "See the caveats in the documentation: https://pandas.pydata.org/pandas-docs/stable/user_guide/indexing.html#returning-a-view-versus-a-copy\n",
      "  Smad4_df['z_score'] = zscore(Smad4_df['Vessel_Density_CD31/COL4'])\n"
     ]
    }
   ],
   "source": [
    "#outlier test (also [126],[115])\n",
    "\n",
    "from scipy.stats import zscore\n",
    "\n",
    "df = pd.DataFrame(properties_df)\n",
    "Smad4_df = df[df['short_name'] == 'SMAD4_KO']\n",
    "Smad4_df['z_score'] = zscore(Smad4_df['Vessel_Density_CD31/COL4'])\n",
    "outliers = Smad4_df[(Smad4_df['z_score'] > 3) | (Smad4_df['z_score'] < -3)]\n",
    "outlier_indices = outliers.index\n",
    "print(outliers)\n",
    "print(outlier_indices)\n",
    "\n",
    "df_no_outliers = df.drop(outlier_indices)\n",
    "#print(\"DataFrame without outliers:\\n\", df_no_outliers)"
   ]
  },
  {
   "cell_type": "code",
   "execution_count": 126,
   "id": "14450ddf-4f0a-4cde-8aa3-a8957b97b33b",
   "metadata": {},
   "outputs": [
    {
     "name": "stdout",
     "output_type": "stream",
     "text": [
      "Empty DataFrame\n",
      "Columns: [Image, Group, Branching_Points_Density_CD31/COL4, Vessel_Density_CD31/COL4, Mean_Branch_Length, Mean_Vessel_Radius, Branching Points, Regression_events, Regression_100_BPs, z_score]\n",
      "Index: []\n"
     ]
    }
   ],
   "source": [
    "Alk1_df = df[df['Group'] == 'ALK1_KO']\n",
    "Alk1_df['z_score'] = zscore(Alk1_df['Branching_Points_Density_CD31/COL4'])\n",
    "outliers = Alk1_df[(Alk1_df['z_score'] > 3) | (Alk1_df['z_score'] < -3)]\n",
    "print(outliers)"
   ]
  },
  {
   "cell_type": "code",
   "execution_count": 115,
   "id": "a10bd978-d5c6-4075-a57d-82b1392ce64e",
   "metadata": {},
   "outputs": [
    {
     "name": "stdout",
     "output_type": "stream",
     "text": [
      "Empty DataFrame\n",
      "Columns: [Image, Group, Branching_Points_Density_CD31/COL4, Vessel_Density_CD31/COL4, Mean_Branch_Length, Mean_Vessel_Radius, Branching Points, Regression_events, Regression_100_BPs, z_score]\n",
      "Index: []\n"
     ]
    },
    {
     "name": "stderr",
     "output_type": "stream",
     "text": [
      "C:\\Users\\ooppenh\\AppData\\Local\\Temp\\2\\ipykernel_12536\\1830919089.py:2: SettingWithCopyWarning: \n",
      "A value is trying to be set on a copy of a slice from a DataFrame.\n",
      "Try using .loc[row_indexer,col_indexer] = value instead\n",
      "\n",
      "See the caveats in the documentation: https://pandas.pydata.org/pandas-docs/stable/user_guide/indexing.html#returning-a-view-versus-a-copy\n",
      "  ctrl_df['z_score'] = zscore(ctrl_df['Regression_100_BPs'])\n"
     ]
    }
   ],
   "source": [
    "ctrl_df = df[df['Group'] == 'CTRL_Alk1']\n",
    "ctrl_df['z_score'] = zscore(ctrl_df['Regression_100_BPs'])\n",
    "outliers = ctrl_df[(ctrl_df['z_score'] > 3) | (ctrl_df['z_score'] < -3)]\n",
    "print(outliers)"
   ]
  },
  {
   "cell_type": "code",
   "execution_count": 145,
   "id": "590e378a-6621-4365-9efd-e745c261729a",
   "metadata": {
    "scrolled": true
   },
   "outputs": [
    {
     "name": "stderr",
     "output_type": "stream",
     "text": [
      "C:\\Users\\ooppenh\\AppData\\Roaming\\Python\\Python38\\site-packages\\dabest\\plot_tools.py:1232: UserWarning: 99.6% of the points cannot be placed. You might want to decrease the size of the markers.\n",
      "  warnings.warn(err)\n",
      "C:\\Users\\ooppenh\\AppData\\Roaming\\Python\\Python38\\site-packages\\dabest\\plot_tools.py:1232: UserWarning: 98.9% of the points cannot be placed. You might want to decrease the size of the markers.\n",
      "  warnings.warn(err)\n",
      "C:\\Users\\ooppenh\\AppData\\Roaming\\Python\\Python38\\site-packages\\dabest\\plot_tools.py:1232: UserWarning: 99.5% of the points cannot be placed. You might want to decrease the size of the markers.\n",
      "  warnings.warn(err)\n",
      "C:\\Users\\ooppenh\\AppData\\Roaming\\Python\\Python38\\site-packages\\dabest\\plot_tools.py:1232: UserWarning: 99.5% of the points cannot be placed. You might want to decrease the size of the markers.\n",
      "  warnings.warn(err)\n",
      "C:\\Users\\ooppenh\\AppData\\Roaming\\Python\\Python38\\site-packages\\dabest\\plot_tools.py:1232: UserWarning: 99.3% of the points cannot be placed. You might want to decrease the size of the markers.\n",
      "  warnings.warn(err)\n",
      "C:\\Users\\ooppenh\\AppData\\Roaming\\Python\\Python38\\site-packages\\dabest\\plot_tools.py:1232: UserWarning: 99.5% of the points cannot be placed. You might want to decrease the size of the markers.\n",
      "  warnings.warn(err)\n",
      "C:\\Users\\ooppenh\\AppData\\Roaming\\Python\\Python38\\site-packages\\dabest\\plot_tools.py:1232: UserWarning: 99.5% of the points cannot be placed. You might want to decrease the size of the markers.\n",
      "  warnings.warn(err)\n",
      "C:\\Users\\ooppenh\\AppData\\Roaming\\Python\\Python38\\site-packages\\dabest\\plot_tools.py:1232: UserWarning: 99.2% of the points cannot be placed. You might want to decrease the size of the markers.\n",
      "  warnings.warn(err)\n",
      "C:\\Users\\ooppenh\\AppData\\Roaming\\Python\\Python38\\site-packages\\dabest\\plot_tools.py:1232: UserWarning: 99.4% of the points cannot be placed. You might want to decrease the size of the markers.\n",
      "  warnings.warn(err)\n"
     ]
    },
    {
     "data": {
      "image/png": "[encoded data removed]",
      "text/plain": [
       "<Figure size 640x480 with 1 Axes>"
      ]
     },
     "metadata": {},
     "output_type": "display_data"
    }
   ],
   "source": [
    "#DABEST plot for grouped analysis\n",
    "\n",
    "f, axx = plt.subplots(nrows=1, ncols=1, gridspec_kw={'wspace': 0.25}) \n",
    "\n",
    "properties_dabest = dabest.load(data = properties_df, x=\"short_name\", y=\"nuc_to_cytosol_ratio\", \n",
    "                          #idx=('ctrl','Alk1 KO','Smad4 KO'))\n",
    "#properties_dabest = dabest.load(data = df_no_outliers, x=\"condition_short\", y=\"perc75th_AV\", \n",
    "                          idx=(('siCTRL_static','siSMAD4_static','siAlk1_static'), ('siCTRL_4h', 'siSMAD4_4h', 'siAlk1_4h') , ('siCTRL_16h', 'siSMAD4_16h', 'siAlk1_16h')))\n",
    "\n",
    "# Produce a Cumming estimation plot.\n",
    "test = properties_dabest.mean_diff.plot(ax=axx);\n",
    "test.savefig(output_folder + \"dabest_stats_result_KLF4_1.pdf\")\n",
    "\n"
   ]
  },
  {
   "cell_type": "code",
   "execution_count": null,
   "id": "e0f2544b-cbdd-4407-9b9d-b593aff986f8",
   "metadata": {},
   "outputs": [],
   "source": []
  },
  {
   "cell_type": "code",
   "execution_count": null,
   "id": "a2d9c85e-622a-4cc2-b657-4cbdd7da4851",
   "metadata": {},
   "outputs": [],
   "source": [
    "#DABEST plot for analysis relative to single control\n",
    "\n",
    "f, axx = plt.subplots(nrows=1, ncols=1, figsize=(40,15))\n",
    "\n",
    "properties_dabest = dabest.load(data=properties_df, x=\"Group\", y=\"Branching_Points_Density_CD31/COL4\",\n",
    "                          idx=(('CTRL_SMAD4','siSMAD4_static','siAlk1_static'), ('CTRL_Alk1', 'Alk1_KO')))\n",
    "\n",
    "# Produce a Cumming estimation plot.\n",
    "test = properties_dabest.mean_diff.plot(ax=axx);\n",
    "#test.savefig(output_folder + \"dabest_stats_result_BPD_ratio.pdf\")"
   ]
  },
  {
   "cell_type": "code",
   "execution_count": null,
   "id": "26904dad-109b-4151-88e5-34bc6769c8f3",
   "metadata": {},
   "outputs": [],
   "source": [
    "#box+swarm plot\n",
    "\n",
    "fig, ax = plt.subplots(nrows=1, ncols=1, figsize=(15,10))\n",
    "sns.boxplot(data = properties_df, y =\"Branching_Points_Density_CD31/COL4\", x = \"Group\", width=0.5, color=\"white\")#, showfliers=True)\n",
    "sns.swarmplot(data = properties_df, y =\"Branching_Points_Density_CD31/COL4\", x = \"Group\", size=3, dodge =True)\n",
    "#sns.scatterplot(data = properties_mean_df, y =\"cell_area_um^2\", x = \"condition\") #, showfliers=False)\n",
    "\n",
    "\n",
    "#fig.savefig(output_folder + \"scatterplot.pdf\")\n",
    "#fig.savefig(output_folder + \"pSMAD159_boxplot_18dyn_dodge.pdf\")\n",
    "#fig.savefig(output_folder + \"stripplot.pdf\")"
   ]
  },
  {
   "cell_type": "code",
   "execution_count": 137,
   "id": "ae2bf53e-6ff5-4bf9-87c3-ca367d75b467",
   "metadata": {},
   "outputs": [
    {
     "data": {
      "text/html": [
       "<div>\n",
       "<style scoped>\n",
       "    .dataframe tbody tr th:only-of-type {\n",
       "        vertical-align: middle;\n",
       "    }\n",
       "\n",
       "    .dataframe tbody tr th {\n",
       "        vertical-align: top;\n",
       "    }\n",
       "\n",
       "    .dataframe thead th {\n",
       "        text-align: right;\n",
       "    }\n",
       "</style>\n",
       "<table border=\"1\" class=\"dataframe\">\n",
       "  <thead>\n",
       "    <tr style=\"text-align: right;\">\n",
       "      <th></th>\n",
       "      <th>control</th>\n",
       "      <th>test</th>\n",
       "      <th>control_N</th>\n",
       "      <th>test_N</th>\n",
       "      <th>effect_size</th>\n",
       "      <th>is_paired</th>\n",
       "      <th>difference</th>\n",
       "      <th>ci</th>\n",
       "      <th>bca_low</th>\n",
       "      <th>bca_high</th>\n",
       "      <th>...</th>\n",
       "      <th>permutations</th>\n",
       "      <th>pvalue_permutation</th>\n",
       "      <th>permutation_count</th>\n",
       "      <th>permutations_var</th>\n",
       "      <th>pvalue_welch</th>\n",
       "      <th>statistic_welch</th>\n",
       "      <th>pvalue_students_t</th>\n",
       "      <th>statistic_students_t</th>\n",
       "      <th>pvalue_mann_whitney</th>\n",
       "      <th>statistic_mann_whitney</th>\n",
       "    </tr>\n",
       "  </thead>\n",
       "  <tbody>\n",
       "    <tr>\n",
       "      <th>0</th>\n",
       "      <td>SMAD4_KO</td>\n",
       "      <td>Alk1_KO</td>\n",
       "      <td>10</td>\n",
       "      <td>8</td>\n",
       "      <td>mean difference</td>\n",
       "      <td>None</td>\n",
       "      <td>0.196271</td>\n",
       "      <td>95</td>\n",
       "      <td>-0.050001</td>\n",
       "      <td>0.496026</td>\n",
       "      <td>...</td>\n",
       "      <td>[0.12660121450000006, -0.029047026275, 0.18241...</td>\n",
       "      <td>0.191</td>\n",
       "      <td>5000</td>\n",
       "      <td>[0.021983913612323817, 0.021972405295709478, 0...</td>\n",
       "      <td>0.209229</td>\n",
       "      <td>-1.333597</td>\n",
       "      <td>0.178276</td>\n",
       "      <td>-1.40796</td>\n",
       "      <td>0.172814</td>\n",
       "      <td>24.0</td>\n",
       "    </tr>\n",
       "  </tbody>\n",
       "</table>\n",
       "<p>1 rows × 27 columns</p>\n",
       "</div>"
      ],
      "text/plain": [
       "    control     test  control_N  test_N      effect_size is_paired  \\\n",
       "0  SMAD4_KO  Alk1_KO         10       8  mean difference      None   \n",
       "\n",
       "   difference  ci   bca_low  bca_high  ...  \\\n",
       "0    0.196271  95 -0.050001  0.496026  ...   \n",
       "\n",
       "                                        permutations  pvalue_permutation  \\\n",
       "0  [0.12660121450000006, -0.029047026275, 0.18241...               0.191   \n",
       "\n",
       "   permutation_count                                   permutations_var  \\\n",
       "0               5000  [0.021983913612323817, 0.021972405295709478, 0...   \n",
       "\n",
       "  pvalue_welch  statistic_welch  pvalue_students_t statistic_students_t  \\\n",
       "0     0.209229        -1.333597           0.178276             -1.40796   \n",
       "\n",
       "   pvalue_mann_whitney  statistic_mann_whitney  \n",
       "0             0.172814                    24.0  \n",
       "\n",
       "[1 rows x 27 columns]"
      ]
     },
     "execution_count": 137,
     "metadata": {},
     "output_type": "execute_result"
    }
   ],
   "source": [
    "#generates csv file with statistical analysis data\n",
    "\n",
    "properties_dabest = dabest.load(data=properties_df, x=\"Group\", y=\"Vessel_Density_CD31/COL4\",\n",
    "                         # idx=(('CTRL_SMAD4','SMAD4_KO'), ('CTRL_Alk1', 'Alk1_KO')) )\n",
    "                          idx=('SMAD4_KO','Alk1_KO'))  \n",
    "\n",
    "mean_diff = properties_dabest.mean_diff.results\n",
    "mean_diff.to_csv(output_folder + \"statistics_VD_ratio_2.csv\")\n",
    "mean_diff"
   ]
  },
  {
   "cell_type": "code",
   "execution_count": null,
   "id": "1752e4bd-572d-4936-b7e0-12a609650045",
   "metadata": {},
   "outputs": [],
   "source": []
  }
 ],
 "metadata": {
  "kernelspec": {
   "display_name": "Python 3 (ipykernel)",
   "language": "python",
   "name": "python3"
  },
  "language_info": {
   "codemirror_mode": {
    "name": "ipython",
    "version": 3
   },
   "file_extension": ".py",
   "mimetype": "text/x-python",
   "name": "python",
   "nbconvert_exporter": "python",
   "pygments_lexer": "ipython3",
   "version": "3.8.19"
  }
 },
 "nbformat": 4,
 "nbformat_minor": 5
}
